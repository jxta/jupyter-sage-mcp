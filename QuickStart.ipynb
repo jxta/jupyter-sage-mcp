{
 "cells": [
  {
   "cell_type": "markdown",
   "metadata": {},
   "source": [
    "# 🚀 Quick Start Demo\n",
    "\n",
    "このノートブックではSageMath、Python、Juliaの各カーネルをテストできます。\n",
    "\n",
    "## カーネルの切り替え方法\n",
    "\n",
    "1. JupyterLabの上部メニューで **Kernel** → **Change Kernel** を選択\n",
    "2. 利用可能なカーネル：\n",
    "   - **Python 3** - 標準のPythonカーネル\n",
    "   - **SageMath** - SageMath数学計算\n",
    "   - **Julia** - Julia言語（postBuildで設定）\n"
   ]
  },
  {
   "cell_type": "markdown",
   "metadata": {},
   "source": [
    "## 🐍 Python Example"
   ]
  },
  {
   "cell_type": "code",
   "execution_count": null,
   "metadata": {},
   "outputs": [],
   "source": [
    "# Python基本テスト\n",
    "import numpy as np\n",
    "import matplotlib.pyplot as plt\n",
    "\n",
    "# 簡単なプロット\n",
    "x = np.linspace(0, 2*np.pi, 100)\n",
    "y = np.sin(x)\n",
    "\n",
    "plt.figure(figsize=(8, 4))\n",
    "plt.plot(x, y, 'b-', linewidth=2)\n",
    "plt.title('Python: sin(x) function')\n",
    "plt.xlabel('x')\n",
    "plt.ylabel('sin(x)')\n",
    "plt.grid(True)\n",
    "plt.show()\n",
    "\n",
    "print(\"✅ Python kernel is working!\")"
   ]
  },
  {
   "cell_type": "markdown",
   "metadata": {},
   "source": [
    "## 🔬 SageMath Example\n",
    "\n",
    "**注意**: 以下のセルを実行する前に、カーネルを **SageMath** に変更してください。"
   ]
  },
  {
   "cell_type": "code",
   "execution_count": null,
   "metadata": {},
   "outputs": [],
   "source": [
    "# SageMath基本テスト（SageMathカーネルで実行）\n",
    "var('x')\n",
    "f = x^2 + 3*x + 2\n",
    "print(\"Function f(x) =\", f)\n",
    "print(\"f'(x) =\", diff(f, x))\n",
    "print(\"Roots of f(x) =\", solve(f == 0, x))\n",
    "print(\"Factor f(x) =\", factor(f))\n",
    "\n",
    "# 数論の例\n",
    "print(\"\\nNumber theory:\")\n",
    "print(\"Prime factorization of 60:\", factor(60))\n",
    "print(\"First 10 primes:\", [nth_prime(i) for i in range(1, 11)])\n",
    "\n",
    "print(\"\\n✅ SageMath kernel is working!\")"
   ]
  },
  {
   "cell_type": "markdown",
   "metadata": {},
   "source": [
    "## 🔢 Julia Example\n",
    "\n",
    "**注意**: 以下のセルを実行する前に、カーネルを **Julia** に変更してください。"
   ]
  },
  {
   "cell_type": "code",
   "execution_count": null,
   "metadata": {},
   "outputs": [],
   "source": [
    "# Julia基本テスト（Juliaカーネルで実行）\n",
    "println(\"Julia version: \", VERSION)\n",
    "\n",
    "# ベクトルと行列\n",
    "A = [1 2; 3 4]\n",
    "b = [5, 6]\n",
    "\n",
    "println(\"Matrix A:\")\n",
    "display(A)\n",
    "println(\"Vector b: \", b)\n",
    "println(\"A * b = \", A * b)\n",
    "println(\"det(A) = \", det(A))\n",
    "\n",
    "# フィボナッチ数列\n",
    "function fibonacci(n)\n",
    "    if n <= 1\n",
    "        return n\n",
    "    else\n",
    "        return fibonacci(n-1) + fibonacci(n-2)\n",
    "    end\n",
    "end\n",
    "\n",
    "println(\"\\nFirst 10 Fibonacci numbers:\")\n",
    "for i in 0:9\n",
    "    print(fibonacci(i), \" \")\n",
    "end\n",
    "\n",
    "println(\"\\n\\n✅ Julia kernel is working!\")"
   ]
  },
  {
   "cell_type": "markdown",
   "metadata": {},
   "source": [
    "## 🎯 次のステップ\n",
    "\n",
    "このmybinder.org環境では以下が利用可能です：\n",
    "\n",
    "### 📊 利用可能なカーネル\n",
    "- **Python 3**: NumPy, Matplotlib, Pandas, SciPy, SymPy\n",
    "- **SageMath**: 数学専用の強力な計算環境\n",
    "- **Julia**: 高性能数値計算言語\n",
    "\n",
    "### 📚 追加リソース\n",
    "- [SageMath Documentation](https://doc.sagemath.org/)\n",
    "- [Julia Documentation](https://docs.julialang.org/)\n",
    "- [Project Repository](https://github.com/jxta/jupyter-sage-mcp)\n",
    "\n",
    "### 🔗 ファイル構造\n",
    "- `/notebooks/` - より詳細なデモノートブック\n",
    "- `/src/` - MCPクライアント実装\n",
    "- `/config/` - 設定ファイル\n"
   ]
  }
 ],
 "metadata": {
  "kernelspec": {
   "display_name": "Python 3 (ipykernel)",
   "name": "python3"
  },
  "language_info": {
   "codemirror_mode": {
    "name": "ipython",
    "version": 3
   },
   "file_extension": ".py",
   "mimetype": "text/x-python",
   "name": "python",
   "nbconvert_exporter": "python",
   "version": "3.11.0"
  }
 },
 "nbformat": 4,
 "nbformat_minor": 4
}
